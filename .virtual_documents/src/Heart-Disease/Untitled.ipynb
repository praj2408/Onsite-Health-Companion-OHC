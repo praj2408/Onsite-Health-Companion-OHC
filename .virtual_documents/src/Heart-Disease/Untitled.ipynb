


# import the libraries
import numpy as np
import pandas as pd
import matplotlib.pyplot as plt
import seaborn as sns
from sklearn.model_selection import train_test_split
from sklearn.metrics import classification_report
from sklearn.preprocessing import LabelEncoder
from sklearn.linear_model import LogisticRegression
from sklearn.preprocessing import StandardScaler
from sklearn.metrics import ConfusionMatrixDisplay, accuracy_score, classification_report, confusion_matrix, RocCurveDisplay
from sklearn import metrics
from sklearn.tree import DecisionTreeClassifier
from sklearn.ensemble import RandomForestClassifier


## Read the data
data = pd.read_csv("heart.csv")
data.head()


# Basic information about the dataset
data.info()


data.shape





data.size


data.isna().sum()


### visualize in the heatmap
plt.figure(figsize = (16,8))
sns.heatmap(data.isna(),cmap='BrBG')


data.head()








data['Sex'].value_counts()


plt.figure(figsize = (16,8))
sns.countplot(data = data, x = 'Sex')





tot = data['HeartDisease'].groupby(data['Sex']).count()
suff = data['HeartDisease'].groupby(data['Sex']).sum()
not_suf = tot-suff
not_suf


sns.countplot(data = data, x = not_suf)


sns.countplot(data = data, x = suff)


female_suffered = suff[0]
male_suffered = suff[1]


total_gend = data['Sex'].count()
print("Female suffered percent ", (female_suffered/total_gend)*100)


total_gend = data['Sex'].count()
print("Male suffered percent ", (male_suffered/total_gend)*100)





data['ChestPainType'].value_counts()


plt.figure(figsize = (16,8))
sns.countplot(data=data, x= 'ChestPainType')


count_me = data['HeartDisease'].groupby(data['ChestPainType']).count()


sum_me = data['HeartDisease'].groupby(data['ChestPainType']).sum()


sum_me


no_risk = count_me-sum_me


print("{} of people who have ASY got heart disease and {} of people who have ASY doesn't get heart disease.".format(sum_me[0],no_risk[0]))


data.head()





data["RestingECG"].value_counts()


plt.figure(figsize = (16,8))
plt.hist(data["RestingECG"],color='green')








s = data["Sex"].unique()
c = data["ChestPainType"].unique()
r = data["RestingECG"].unique()
e = data["ExerciseAngina"].unique()
sl = data["ST_Slope"].unique()


print(s)
print(c)
print(r)
print(e)
print(sl)








labelencoder = LabelEncoder()
data["Sex"] = labelencoder.fit_transform(data["Sex"])


data["ChestPainType"] = labelencoder.fit_transform(data["ChestPainType"])
data["RestingECG"] = labelencoder.fit_transform(data["RestingECG"])
data["ExerciseAngina"] = labelencoder.fit_transform(data["ExerciseAngina"])
data["ST_Slope"] = labelencoder.fit_transform(data["ST_Slope"])


s = data["Sex"].unique()
c = data["ChestPainType"].unique()
r = data["RestingECG"].unique()
e = data["ExerciseAngina"].unique()
sl = data["ST_Slope"].unique()


print(s)
print(c)
print(r)
print(e)
print(sl)





#label = data["HeartDisease"].copy()

data["Age"].unique()


sns.boxplot(data["RestingBP"])


sns.boxplot(data["Cholesterol"])


sns.boxplot(data["MaxHR"])


#### Remove the outlier
Q1 = data.quantile(0.25)
Q3 = data.quantile(0.75)
IQR = Q3-Q1
IQR


data = data[~((data < (Q1 - 1.5 * IQR)) | (data > (Q3 + 1.5 * IQR))).any(axis = 1)]
data.shape


sns.boxplot(data["RestingBP"])


label = data["HeartDisease"].copy()
data = data.drop("HeartDisease",axis=1)








X_train, X_test, y_train, y_test = train_test_split(data, label, test_size = 0.2, random_state = 42)


scale = StandardScaler()
X_train = scale.fit_transform(X_train)
X_test = scale.fit_transform(X_test)


lor = LogisticRegression()
lor.fit(X_train, y_train)
y_pred = lor.predict(X_test)
print(classification_report(y_test, y_pred))





cm = confusion_matrix(y_test, y_pred, labels=lor.classes_)
disp = ConfusionMatrixDisplay(confusion_matrix=cm, display_labels=lor.classes_)
disp.plot()


#printing the accuracy for test set
print('Accuracy of Logistic Regression model is {}'.format(accuracy_score(y_test,y_pred)*100))


display = RocCurveDisplay.from_estimator(lor, X_test, y_test)



































































































